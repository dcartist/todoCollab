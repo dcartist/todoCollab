{
  "nbformat": 4,
  "nbformat_minor": 0,
  "metadata": {
    "colab": {
      "name": "Untitled10.ipynb",
      "provenance": [],
      "authorship_tag": "ABX9TyPsABlMAJjWu5YwxwR7dyHi",
      "include_colab_link": true
    },
    "kernelspec": {
      "name": "python3",
      "display_name": "Python 3"
    },
    "language_info": {
      "name": "python"
    }
  },
  "cells": [
    {
      "cell_type": "markdown",
      "metadata": {
        "id": "view-in-github",
        "colab_type": "text"
      },
      "source": [
        "<a href=\"https://colab.research.google.com/github/dcartist/todoCollab/blob/main/todo.ipynb\" target=\"_parent\"><img src=\"https://colab.research.google.com/assets/colab-badge.svg\" alt=\"Open In Colab\"/></a>"
      ]
    },
    {
      "cell_type": "code",
      "metadata": {
        "colab": {
          "base_uri": "https://localhost:8080/"
        },
        "id": "DTHJB5RkEplX",
        "outputId": "4069d004-a3bf-4682-8021-843e5a3fddaa"
      },
      "source": [
        "!pip install flask-ngrok"
      ],
      "execution_count": 3,
      "outputs": [
        {
          "output_type": "stream",
          "name": "stdout",
          "text": [
            "Collecting flask-ngrok\n",
            "  Downloading flask_ngrok-0.0.25-py3-none-any.whl (3.1 kB)\n",
            "Requirement already satisfied: Flask>=0.8 in /usr/local/lib/python3.7/dist-packages (from flask-ngrok) (1.1.4)\n",
            "Requirement already satisfied: requests in /usr/local/lib/python3.7/dist-packages (from flask-ngrok) (2.23.0)\n",
            "Requirement already satisfied: Jinja2<3.0,>=2.10.1 in /usr/local/lib/python3.7/dist-packages (from Flask>=0.8->flask-ngrok) (2.11.3)\n",
            "Requirement already satisfied: Werkzeug<2.0,>=0.15 in /usr/local/lib/python3.7/dist-packages (from Flask>=0.8->flask-ngrok) (1.0.1)\n",
            "Requirement already satisfied: click<8.0,>=5.1 in /usr/local/lib/python3.7/dist-packages (from Flask>=0.8->flask-ngrok) (7.1.2)\n",
            "Requirement already satisfied: itsdangerous<2.0,>=0.24 in /usr/local/lib/python3.7/dist-packages (from Flask>=0.8->flask-ngrok) (1.1.0)\n",
            "Requirement already satisfied: MarkupSafe>=0.23 in /usr/local/lib/python3.7/dist-packages (from Jinja2<3.0,>=2.10.1->Flask>=0.8->flask-ngrok) (2.0.1)\n",
            "Requirement already satisfied: chardet<4,>=3.0.2 in /usr/local/lib/python3.7/dist-packages (from requests->flask-ngrok) (3.0.4)\n",
            "Requirement already satisfied: certifi>=2017.4.17 in /usr/local/lib/python3.7/dist-packages (from requests->flask-ngrok) (2021.10.8)\n",
            "Requirement already satisfied: urllib3!=1.25.0,!=1.25.1,<1.26,>=1.21.1 in /usr/local/lib/python3.7/dist-packages (from requests->flask-ngrok) (1.24.3)\n",
            "Requirement already satisfied: idna<3,>=2.5 in /usr/local/lib/python3.7/dist-packages (from requests->flask-ngrok) (2.10)\n",
            "Installing collected packages: flask-ngrok\n",
            "Successfully installed flask-ngrok-0.0.25\n"
          ]
        }
      ]
    },
    {
      "cell_type": "code",
      "metadata": {
        "id": "uu-uRztCGubu",
        "outputId": "35a7694a-10ab-4a47-f011-211f8c62ba3e",
        "colab": {
          "base_uri": "https://localhost:8080/"
        }
      },
      "source": [
        "from google.colab import drive\n",
        "drive.mount('/content/drive')"
      ],
      "execution_count": 1,
      "outputs": [
        {
          "output_type": "stream",
          "name": "stdout",
          "text": [
            "Mounted at /content/drive\n"
          ]
        }
      ]
    },
    {
      "cell_type": "code",
      "metadata": {
        "colab": {
          "base_uri": "https://localhost:8080/"
        },
        "id": "JtkmKLoNEObN",
        "outputId": "48b4fd19-1950-43af-b590-801e74945572"
      },
      "source": [
        "from flask import Flask, request, render_template, redirect\n",
        "from flask_ngrok import run_with_ngrok\n",
        "\n",
        "app = Flask(__name__)\n",
        "run_with_ngrok(app)\n",
        "\n",
        "todoList = [\"Code\", \"Eat Food\", \"breathe\", \"Code some more\"]\n",
        "\n",
        "@app.route(\"/\", methods=['GET'])\n",
        "def index():\n",
        "    return render_template('index.html', todo=todoList)\n",
        "\n",
        "\n",
        "################TODO ADD Function\n",
        "@app.route(\"/add/\", methods=['POST'])\n",
        "def postTodo():\n",
        "    # print(request.form['name'])\n",
        "    todoList.append(request.form['name'])\n",
        "    return redirect(\"/\")\n",
        "    # return render_template('index.html', todo=todoList)\n",
        "\n",
        "\n",
        "################TODO Show individual item Function\n",
        "@app.route(\"/id/<id>\", methods=['GET', 'POST'])\n",
        "def editInfo(id=None):\n",
        "    if request.method =='GET':\n",
        "        number = int(id)\n",
        "        return render_template(\"edit.html\", item=todoList[number], id=id )\n",
        "    number = int(id)\n",
        "    return render_template(\"edit.html\", item=todoList[number], id=id )\n",
        "\n",
        "################TODO EDIT Function\n",
        "@app.route(\"/edit\", methods=['GET', 'POST'])\n",
        "def updateInfo():\n",
        "    number = int(request.form['id'])\n",
        "    todoList[number] = request.form['name']\n",
        "    path = f\"/id/{request.form['id']}\"\n",
        "    return redirect(path)\n",
        "\n",
        "\n",
        "################TODO DELETE Function\n",
        "@app.route(\"/delete/<id>\", methods=[\"GET\"])\n",
        "def deleteItem(id=None):\n",
        "    number = int(id)\n",
        "    todoList.pop(number)\n",
        "    return redirect(\"/\")\n",
        "\n",
        "################* Run App\n",
        "app.run()\n"
      ],
      "execution_count": 2,
      "outputs": [
        {
          "output_type": "stream",
          "name": "stdout",
          "text": [
            " * Serving Flask app \"__main__\" (lazy loading)\n",
            " * Environment: production\n",
            "\u001b[31m   WARNING: This is a development server. Do not use it in a production deployment.\u001b[0m\n",
            "\u001b[2m   Use a production WSGI server instead.\u001b[0m\n",
            " * Debug mode: off\n"
          ]
        },
        {
          "output_type": "stream",
          "name": "stderr",
          "text": [
            " * Running on http://127.0.0.1:5000/ (Press CTRL+C to quit)\n"
          ]
        },
        {
          "output_type": "stream",
          "name": "stdout",
          "text": [
            " * Running on http://8943-35-236-131-202.ngrok.io\n",
            " * Traffic stats available on http://127.0.0.1:4040\n"
          ]
        }
      ]
    }
  ]
}